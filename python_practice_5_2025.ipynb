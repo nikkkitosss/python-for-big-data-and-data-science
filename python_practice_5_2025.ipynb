{
 "cells": [
  {
   "cell_type": "markdown",
   "metadata": {
    "id": "5qV_sehzFCTp"
   },
   "source": [
    "# I. OOP"
   ]
  },
  {
   "cell_type": "markdown",
   "metadata": {
    "id": "tx_U_hOALyfg"
   },
   "source": [
    "1. (6б). Створіть клас Building, додайте три атрибути, один з яких має значення за замовчуванням та два методи на свій розсуд."
   ]
  },
  {
   "cell_type": "code",
   "execution_count": 131,
   "metadata": {
    "id": "-Vf895KaL88N"
   },
   "outputs": [],
   "source": [
    "class Building:\n",
    "    def __init__(self, address, floors, material=\"Concrete\"):\n",
    "        self.address = address\n",
    "        self.floors = floors\n",
    "        self.material = material\n",
    "    \n",
    "    def describe(self):\n",
    "        return f\"Building at {self.address} with {self.floors} floors, made of {self.material}.\"\n",
    "    \n",
    "    def renovate(self, new_material):\n",
    "        self.material = new_material\n",
    "        return f\"The building at {self.address} has been renovated with {self.material}.\""
   ]
  },
  {
   "cell_type": "markdown",
   "metadata": {
    "id": "X_UlOMB0L93w"
   },
   "source": [
    "2. (2б). Створіть два обʼєкти цього класу, де один з обʼєктів створюється із дефолтним значенням атрибуту. На одному обʼєкті отримайте значення його атрибуту, а на іншому викличте один з його методів."
   ]
  },
  {
   "cell_type": "code",
   "execution_count": 133,
   "metadata": {
    "id": "7gBu0ESOMCpG"
   },
   "outputs": [
    {
     "name": "stdout",
     "output_type": "stream",
     "text": [
      "Concrete\n",
      "Building at Khreshchatyk St with 10 floors, made of Steel.\n"
     ]
    }
   ],
   "source": [
    "building1 = Building(\"Fabolous St\", 5)\n",
    "building2 = Building(\"Khreshchatyk St\", 10, \"Steel\")\n",
    "\n",
    "print(building1.material)\n",
    "print(building2.describe())"
   ]
  },
  {
   "cell_type": "markdown",
   "metadata": {
    "id": "HoqSCZt1MHn5"
   },
   "source": [
    "3. (5б). Створіть клас, де атрибути мають різні рівні доступу. Спробуйте отримати їхні значення та опишіть результати."
   ]
  },
  {
   "cell_type": "code",
   "execution_count": 135,
   "metadata": {
    "id": "r9b3vJxBMSPV"
   },
   "outputs": [
    {
     "name": "stdout",
     "output_type": "stream",
     "text": [
      "Attempts to access attributes:\n",
      "Public attribute: Nikita\n",
      "Protected attribute: 18\n",
      "Error accessing private attribute: 'Student' object has no attribute '__id_number'\n",
      "Private attribute (through method): 123\n",
      "Private attribute (with Python-generated name): 123\n",
      "\n",
      "Attempts to access methods:\n",
      "Name: Nikita\n",
      "Age: 18\n",
      "ID: 123\n",
      "Protected method: This is a protected method\n",
      "Error accessing private method: 'Student' object has no attribute '__private_method'\n",
      "Private method (through public method): This is a private method\n"
     ]
    }
   ],
   "source": [
    "class Student:\n",
    "    def __init__(self, name, age, id_number):\n",
    "        self.name = name\n",
    "        self._age = age\n",
    "        self.__id_number = id_number\n",
    "    \n",
    "    def display_info(self):\n",
    "        print(f\"Name: {self.name}\")\n",
    "        print(f\"Age: {self._age}\")\n",
    "        print(f\"ID: {self.__id_number}\")\n",
    "    \n",
    "    def get_id(self):\n",
    "        return self.__id_number\n",
    "    \n",
    "    def _protected_method(self):\n",
    "        return \"This is a protected method\"\n",
    "    \n",
    "    def __private_method(self):\n",
    "        return \"This is a private method\"\n",
    "    \n",
    "    def access_private_method(self):\n",
    "        return self.__private_method()\n",
    "\n",
    "if __name__ == \"__main__\":\n",
    "    student = Student(\"Nikita\", 18, \"123\")\n",
    "    \n",
    "    print(\"Attempts to access attributes:\")\n",
    "    print(f\"Public attribute: {student.name}\")\n",
    "    try:\n",
    "        print(f\"Protected attribute: {student._age}\")\n",
    "    except Exception as e:\n",
    "        print(f\"Error accessing protected attribute: {e}\")\n",
    "    \n",
    "    try:\n",
    "        print(f\"Private attribute (direct access): {student.__id_number}\")\n",
    "    except Exception as e:\n",
    "        print(f\"Error accessing private attribute: {e}\")\n",
    "        \n",
    "    print(f\"Private attribute (through method): {student.get_id()}\")\n",
    "    \n",
    "    try:\n",
    "        print(f\"Private attribute (with Python-generated name): {student._Student__id_number}\")\n",
    "    except Exception as e:\n",
    "        print(f\"Access error: {e}\")\n",
    "    \n",
    "    print(\"\\nAttempts to access methods:\")\n",
    "    student.display_info()\n",
    "    try:\n",
    "        print(f\"Protected method: {student._protected_method()}\")\n",
    "    except Exception as e:\n",
    "        print(f\"Error accessing protected method: {e}\")\n",
    "    \n",
    "    try:\n",
    "        print(f\"Private method (direct access): {student.__private_method()}\")\n",
    "    except Exception as e:\n",
    "        print(f\"Error accessing private method: {e}\")\n",
    "        \n",
    "    print(f\"Private method (through public method): {student.access_private_method()}\")"
   ]
  },
  {
   "cell_type": "markdown",
   "metadata": {
    "id": "5op2m2vgMSkZ"
   },
   "source": [
    "4. (7б). Як ви розумієте термін self? Для чого використовується метод __init __?"
   ]
  },
  {
   "cell_type": "markdown",
   "metadata": {
    "id": "DyiPqNRvMasx"
   },
   "source": [
    "self - це параметр, який несе у собі референ на екзкмпялр класу \n",
    "<br>\n",
    "__init __ - це конструктор класу"
   ]
  },
  {
   "cell_type": "markdown",
   "metadata": {
    "id": "-6X8EGfjMd2y"
   },
   "source": [
    "5. (9б). Створіть клас 3D-фігура без атрибутів, з методом get_volume для отримання об'єму фігури, що повертає 0 та __add __, який приймає self та other в якості аргументів, а повертає суму об'ємів 3d-фігур self та other."
   ]
  },
  {
   "cell_type": "code",
   "execution_count": 139,
   "metadata": {
    "id": "4rvO_wYUMaEr"
   },
   "outputs": [
    {
     "name": "stdout",
     "output_type": "stream",
     "text": [
      "Volume of figure1: 0\n",
      "Volume of figure2: 0\n",
      "Sum of volumes: 0\n"
     ]
    }
   ],
   "source": [
    "class Figure3D:\n",
    "    def get_volume(self):\n",
    "        return 0\n",
    "    \n",
    "    def __add__(self, other):\n",
    "        if isinstance(other, Figure3D):\n",
    "            return self.get_volume() + other.get_volume()\n",
    "        else:\n",
    "            raise TypeError(\"Can only add Figure3D objects\")\n",
    "\n",
    "\n",
    "if __name__ == \"__main__\":\n",
    "    figure1 = Figure3D()\n",
    "    figure2 = Figure3D()\n",
    "    \n",
    "    print(f\"Volume of figure1: {figure1.get_volume()}\")\n",
    "    print(f\"Volume of figure2: {figure2.get_volume()}\")\n",
    "    \n",
    "    sum_figure = figure1 + figure2\n",
    "    print(f\"Sum of volumes: {sum_figure}\")"
   ]
  },
  {
   "cell_type": "markdown",
   "metadata": {
    "id": "SFcKnnv5Mo_z"
   },
   "source": [
    "6. (11б). Створіть 2 дочірніх класи від 3d-фігура: Циліндр та Куб, які мають атрибути, необхідні для розрахунку об'єму. Визначте метод get_volume в кожному з них так, щоби вони розраховували об'єм у залежності від формули для кожного типу фігури. Створіть обʼєкт класу Циліндр та обʼєкт класу Куб. Виконайте операцію суми за допомогою оператора + між ними, аби знайти сумарний об'єм."
   ]
  },
  {
   "cell_type": "code",
   "execution_count": 141,
   "metadata": {
    "id": "H3GVNr69Muf3"
   },
   "outputs": [
    {
     "name": "stdout",
     "output_type": "stream",
     "text": [
      "Cylinder volume: 785.40 cubic units\n",
      "Cube volume: 343.00 cubic units\n",
      "Total volume: 1128.40 cubic units\n",
      "Manual sum: 1128.40 cubic units\n"
     ]
    }
   ],
   "source": [
    "import math\n",
    "\n",
    "class Cylinder(Figure3D):\n",
    "    def __init__(self, radius, height):\n",
    "        self.radius = radius\n",
    "        self.height = height\n",
    "    \n",
    "    def get_volume(self):\n",
    "        return math.pi * self.radius**2 * self.height\n",
    "\n",
    "\n",
    "class Cube(Figure3D):\n",
    "    def __init__(self, side_length):\n",
    "        self.side_length = side_length\n",
    "    \n",
    "    def get_volume(self):\n",
    "        return self.side_length**3\n",
    "\n",
    "\n",
    "if __name__ == \"__main__\":\n",
    "    cylinder = Cylinder(radius=5, height=10)\n",
    "    cube = Cube(side_length=7)\n",
    "    \n",
    "    cylinder_volume = cylinder.get_volume()\n",
    "    cube_volume = cube.get_volume()\n",
    "    \n",
    "    print(f\"Cylinder volume: {cylinder_volume:.2f} cubic units\")\n",
    "    print(f\"Cube volume: {cube_volume:.2f} cubic units\")\n",
    "    \n",
    "    total_volume = cylinder + cube\n",
    "    print(f\"Total volume: {total_volume:.2f} cubic units\")\n",
    "    \n",
    "    print(f\"Manual sum: {cylinder_volume + cube_volume:.2f} cubic units\")"
   ]
  },
  {
   "cell_type": "markdown",
   "metadata": {
    "id": "HCvR206YMvLK"
   },
   "source": [
    "7. (3б). Продемонструйте різницю між isinstance та issubclass."
   ]
  },
  {
   "cell_type": "code",
   "execution_count": 143,
   "metadata": {
    "id": "L_V1bBvDM0GN"
   },
   "outputs": [
    {
     "name": "stdout",
     "output_type": "stream",
     "text": [
      "True\n",
      "True\n",
      "------\n",
      "True\n",
      "True\n",
      "False\n"
     ]
    }
   ],
   "source": [
    "class Animal:\n",
    "    pass\n",
    "\n",
    "class Dog(Animal):\n",
    "    pass\n",
    "\n",
    "dog = Dog()\n",
    "\n",
    "print(isinstance(dog, Dog))\n",
    "print(isinstance(dog, Animal))\n",
    "print(\"------\")\n",
    "print(issubclass(Dog, Animal))\n",
    "print(issubclass(Dog, Dog))\n",
    "print(issubclass(Animal, Dog))"
   ]
  },
  {
   "cell_type": "markdown",
   "metadata": {},
   "source": [
    "isinstance() - перевіряє, чи є об'єкт екземпляром зазначеного класу або його підкласу.\n",
    "<br>\n",
    "issubclass() - перевіряє, чи є клас підкласом іншого класу."
   ]
  },
  {
   "cell_type": "markdown",
   "metadata": {
    "id": "jjsaBZ-iM0Qq"
   },
   "source": [
    "8. (13б). Створіть клас EWallet з приватними атрибутами balance та id. Реалізуйте методи поповнення та зняття коштів, забезпечивши належну інкапсуляцію. Підказка: використовуйте декоратори property та setter."
   ]
  },
  {
   "cell_type": "code",
   "execution_count": 146,
   "metadata": {
    "id": "xCvZ7lh8M7YA"
   },
   "outputs": [
    {
     "name": "stdout",
     "output_type": "stream",
     "text": [
      "Wallet ID: b30ca576-3c89-4562-9a74-f0d64fb9314c\n",
      "Initial balance: 100\n",
      "Deposited 50. New balance: 150\n",
      "Withdrawn 30. New balance: 120\n",
      "Insufficient funds or invalid withdrawal amount\n"
     ]
    }
   ],
   "source": [
    "import uuid\n",
    "\n",
    "class EWallet:\n",
    "    def __init__(self, initial_balance = 0):\n",
    "        self.__balance = max(0, initial_balance)\n",
    "        self.__id = uuid.uuid4()\n",
    "\n",
    "    @property\n",
    "    def balance(self):\n",
    "        return self.__balance\n",
    "    \n",
    "    @property\n",
    "    def id(self):\n",
    "        return self.__id\n",
    "\n",
    "    def deposit(self, amount):\n",
    "        if amount > 0:\n",
    "            self.__balance += amount\n",
    "            print(f\"Deposited {amount}. New balance: {self.__balance}\")\n",
    "        else:\n",
    "            print(\"Deposit amount must be greater than 0\")\n",
    "    \n",
    "    def withdraw(self, amount):\n",
    "        if 0 < amount <= self.__balance:\n",
    "            self.__balance -= amount\n",
    "            print(f\"Withdrawn {amount}. New balance: {self.__balance}\")\n",
    "        else:\n",
    "            print(\"Insufficient funds or invalid withdrawal amount\")\n",
    "            \n",
    "if __name__ == \"__main__\":\n",
    "    ewallet = EWallet(100)\n",
    "    print(f\"Wallet ID: {ewallet.id}\")\n",
    "    print(f\"Initial balance: {ewallet.balance}\")\n",
    "    \n",
    "    ewallet.deposit(50)\n",
    "    ewallet.withdraw(30)\n",
    "    ewallet.withdraw(200)"
   ]
  },
  {
   "cell_type": "markdown",
   "metadata": {
    "id": "tIzL2SJTM8ft"
   },
   "source": [
    "9. (11б). Створіть клас ShoppingCart, який містить список об'єктів типу Item. Реалізуйте методи для додавання айтемів, їх видалення та відображення списку айтемів."
   ]
  },
  {
   "cell_type": "code",
   "execution_count": 148,
   "metadata": {
    "id": "HWxfJKLtNAUZ"
   },
   "outputs": [
    {
     "name": "stdout",
     "output_type": "stream",
     "text": [
      "Added Laptop to the cart.\n",
      "Added Mouse to the cart.\n",
      "Shopping Cart Items:\n",
      "- Laptop: $999.99\n",
      "- Mouse: $49.99\n",
      "Removed Mouse from the cart.\n",
      "Shopping Cart Items:\n",
      "- Laptop: $999.99\n"
     ]
    }
   ],
   "source": [
    "class Item:\n",
    "    def __init__(self, name, price):\n",
    "        self.name = name\n",
    "        self.price = price\n",
    "    \n",
    "    def __str__(self):\n",
    "        return f\"{self.name}: ${self.price:.2f}\"\n",
    "\n",
    "class ShoppingCart:\n",
    "    def __init__(self):\n",
    "        self.items = []\n",
    "    \n",
    "    def add_item(self, item):\n",
    "        self.items.append(item)\n",
    "        print(f\"Added {item.name} to the cart.\")\n",
    "    \n",
    "    def remove_item(self, item_name):\n",
    "        for item in self.items:\n",
    "            if item.name == item_name:\n",
    "                self.items.remove(item)\n",
    "                print(f\"Removed {item.name} from the cart.\")\n",
    "                return\n",
    "        print(\"Item not found in the cart.\")\n",
    "    \n",
    "    def display_items(self):\n",
    "        if not self.items:\n",
    "            print(\"The cart is empty.\")\n",
    "        else:\n",
    "            print(\"Shopping Cart Items:\")\n",
    "            for item in self.items:\n",
    "                print(f\"- {item}\")\n",
    "\n",
    "if __name__ == \"__main__\":\n",
    "    cart = ShoppingCart()\n",
    "    item1 = Item(\"Laptop\", 999.99)\n",
    "    item2 = Item(\"Mouse\", 49.99)\n",
    "    \n",
    "    cart.add_item(item1)\n",
    "    cart.add_item(item2)\n",
    "    cart.display_items()\n",
    "    cart.remove_item(\"Mouse\")\n",
    "    cart.display_items()"
   ]
  },
  {
   "cell_type": "markdown",
   "metadata": {
    "id": "lmV8pAwwNIqu"
   },
   "source": [
    "10. (13б). Створіть клас Vehicle з атрибутами brand (manufacturer) та production_age. Створіть ще один клас Engine з такими атрибутами, як type (ex. petrol) та size (volume, litres). Створіть клас Car, який успадковує обидва класи Vehicle та Engine. Продемонструйте використання множинної спадковості, створивши обʼєкт класу Car та отримавши mro для цього класу."
   ]
  },
  {
   "cell_type": "code",
   "execution_count": 150,
   "metadata": {
    "id": "R49grKlWNPeN"
   },
   "outputs": [
    {
     "name": "stdout",
     "output_type": "stream",
     "text": [
      "Brand: Toyota, Production Age: 5 years, Engine Type: Petrol, Size: 2.0L\n",
      "MRO: [<class '__main__.Car'>, <class '__main__.Vehicle'>, <class '__main__.Engine'>, <class 'object'>]\n"
     ]
    }
   ],
   "source": [
    "class Vehicle:\n",
    "    def __init__(self, brand, production_age):\n",
    "        self.brand = brand\n",
    "        self.production_age = production_age\n",
    "    \n",
    "    def vehicle_info(self):\n",
    "        return f\"Brand: {self.brand}, Production Age: {self.production_age} years\"\n",
    "\n",
    "class Engine:\n",
    "    def __init__(self, type, size):\n",
    "        self.type = type\n",
    "        self.size = size\n",
    "    \n",
    "    def engine_info(self):\n",
    "        return f\"Engine Type: {self.type}, Size: {self.size}L\"\n",
    "\n",
    "class Car(Vehicle, Engine):\n",
    "    def __init__(self, brand, production_age, type, size):\n",
    "        Vehicle.__init__(self, brand, production_age)\n",
    "        Engine.__init__(self, type, size)\n",
    "    \n",
    "    def car_info(self):\n",
    "        return f\"{self.vehicle_info()}, {self.engine_info()}\"\n",
    "\n",
    "if __name__ == \"__main__\":\n",
    "    car = Car(\"Toyota\", 5, \"Petrol\", 2.0)\n",
    "    print(car.car_info())\n",
    "    print(\"MRO:\", Car.mro())"
   ]
  },
  {
   "cell_type": "markdown",
   "metadata": {
    "id": "dIJyUiNBFG8G"
   },
   "source": [
    "# II. Iterator"
   ]
  },
  {
   "cell_type": "markdown",
   "metadata": {
    "id": "13vsm0NyKIzL"
   },
   "source": [
    "11. (4б). Визначте рядок(str) з 4ма різними за значенням символами. Створіть ітератор на основі цього рядка. Викличте 5 разів функцію next на ітераторі, 4ри перших з них огорніть у ф-цію print()."
   ]
  },
  {
   "cell_type": "code",
   "execution_count": 153,
   "metadata": {
    "id": "81ntabAkKuz-"
   },
   "outputs": [
    {
     "name": "stdout",
     "output_type": "stream",
     "text": [
      "a\n",
      "b\n",
      "c\n",
      "d\n",
      "Iterator reached the end\n"
     ]
    }
   ],
   "source": [
    "s = \"abcd\"\n",
    "iterator = iter(s)\n",
    "try:\n",
    "    print(next(iterator))\n",
    "    print(next(iterator))\n",
    "    print(next(iterator))\n",
    "    print(next(iterator))\n",
    "    print(next(iterator))\n",
    "except StopIteration:\n",
    "    print(\"Iterator reached the end\")"
   ]
  },
  {
   "cell_type": "markdown",
   "metadata": {
    "id": "aekWHGXOLRsO"
   },
   "source": [
    "А що якщо викликати цю ж функцію на рядку?"
   ]
  },
  {
   "cell_type": "code",
   "execution_count": 155,
   "metadata": {
    "id": "mxATGsErLV1i"
   },
   "outputs": [
    {
     "name": "stdout",
     "output_type": "stream",
     "text": [
      "'str' object is not an iterator\n"
     ]
    }
   ],
   "source": [
    "my_str = \"abcd\"\n",
    "\n",
    "try:\n",
    "    print(next(my_str))\n",
    "except TypeError as e:\n",
    "    print(e)"
   ]
  },
  {
   "cell_type": "markdown",
   "metadata": {
    "id": "XwtMEopwJ4pH"
   },
   "source": [
    " 12. (5б). Опишіть своїми словами в одному реченні, як ви розумієте різницю між ітерабельними обʼєктами та ітераторами (можна на прикладі)."
   ]
  },
  {
   "cell_type": "markdown",
   "metadata": {
    "id": "-sHrODc3KFn8"
   },
   "source": [
    "ітерабельні обєкти - це ті по яким можна пройтись циклом або створити ітератор, який в свою чергу є об'єктом котрий зберігає певний стан."
   ]
  },
  {
   "cell_type": "markdown",
   "metadata": {
    "id": "E9qJWmNbK8Gl"
   },
   "source": [
    "13. (11б). Створіть клас, що має визначений Iterator Protocol та при кожному виклику next повертає назву дня тижня, поки вони не вичерпаються. Зверніть увагу, що порядок має значення."
   ]
  },
  {
   "cell_type": "code",
   "execution_count": 159,
   "metadata": {
    "id": "cqx-g_RsLo6I"
   },
   "outputs": [
    {
     "name": "stdout",
     "output_type": "stream",
     "text": [
      "Monday\n",
      "Tuesday\n",
      "Wednesday\n",
      "Thursday\n",
      "Friday\n",
      "Saturday\n",
      "Sunday\n"
     ]
    }
   ],
   "source": [
    "class WeekdaysIterator:\n",
    "    def __init__(self):\n",
    "        self.days = [\"Monday\", \"Tuesday\", \"Wednesday\", \"Thursday\", \"Friday\", \"Saturday\", \"Sunday\"]\n",
    "        self.index = 0\n",
    "\n",
    "    def __iter__(self):\n",
    "        return self\n",
    "\n",
    "    def __next__(self):\n",
    "        if self.index < len(self.days):\n",
    "            day = self.days[self.index]\n",
    "            self.index += 1\n",
    "            return day\n",
    "        else:\n",
    "            raise StopIteration\n",
    "\n",
    "if __name__ == \"__main__\":\n",
    "    weekdays = WeekdaysIterator()\n",
    "    \n",
    "    for day in weekdays:\n",
    "        print(day)"
   ]
  },
  {
   "cell_type": "markdown",
   "metadata": {
    "id": "Z3E3S_s1Fv7-"
   },
   "source": [
    "# Вітаю! Ви велика(ий) молодець, що впоралась(вся). Похваліть себе та побалуйте чимось приємним. Я Вами пишаюся."
   ]
  }
 ],
 "metadata": {
  "colab": {
   "provenance": []
  },
  "kernelspec": {
   "display_name": "Python 3 (ipykernel)",
   "language": "python",
   "name": "python3"
  },
  "language_info": {
   "codemirror_mode": {
    "name": "ipython",
    "version": 3
   },
   "file_extension": ".py",
   "mimetype": "text/x-python",
   "name": "python",
   "nbconvert_exporter": "python",
   "pygments_lexer": "ipython3",
   "version": "3.12.4"
  }
 },
 "nbformat": 4,
 "nbformat_minor": 4
}
